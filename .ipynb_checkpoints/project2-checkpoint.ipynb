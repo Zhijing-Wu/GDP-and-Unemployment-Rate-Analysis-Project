{
 "cells": [
  {
   "cell_type": "markdown",
   "metadata": {},
   "source": [
    "                                      Final Project\n",
    "    \n",
    "Project Overview:\n",
    "    \n",
    "The purpuse of this project is to see the relationship between the GDP and the unemployment rate in U.S. In this project, we have time series data of the GDP and the unemployment rate for the U.S. According to the theory, the GDP and the unemployment rate has a negative relationship. We will use linear regression analysis to test whether the GDP will influence the unemployment rate. "
   ]
  },
  {
   "cell_type": "markdown",
   "metadata": {},
   "source": [
    "Project Structure:\n",
    "    \n",
    "This projects consist of three parts starting by providing the data and explaining where the data comes from and how to access it. \n",
    "\n",
    "The second part will focus on providing summary statistics showing the relationship between GDP and unemployment rate while giving visuals of the statistics to help illustrate the project.\n",
    "\n",
    "The third part of the project will have a hypothesis which will be compared with trends in previous scholarship. To test the hypothesis a linear regression will be preformed and the results will be stated. Finally, there will be a discussion of the test results and whether or not it follows previous scholarship."
   ]
  },
  {
   "cell_type": "markdown",
   "metadata": {},
   "source": [
    "Data Report:\n",
    "\n"
   ]
  }
 ],
 "metadata": {
  "kernelspec": {
   "display_name": "Python 3",
   "language": "python",
   "name": "python3"
  },
  "language_info": {
   "codemirror_mode": {
    "name": "ipython",
    "version": 3
   },
   "file_extension": ".py",
   "mimetype": "text/x-python",
   "name": "python",
   "nbconvert_exporter": "python",
   "pygments_lexer": "ipython3",
   "version": "3.8.3"
  }
 },
 "nbformat": 4,
 "nbformat_minor": 4
}
