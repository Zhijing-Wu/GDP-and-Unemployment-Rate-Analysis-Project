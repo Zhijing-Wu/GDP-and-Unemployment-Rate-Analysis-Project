{
 "cells": [
  {
   "cell_type": "markdown",
   "metadata": {},
   "source": [
    "                                      Final Project\n",
    "    \n",
    "Project Overview:\n",
    "    \n",
    "The purpuse of this project is to see the relationship between the inflation rate and the unemployment rate in U.S. In this project, we have time series data of the inflation rate and the unemployment rate for the U.S. According to the theory, the infaltion rate and the unemployment rate has a negative relationship. We will use linear regression analysis to test whether the inflation rate will influence the unemployment rate. "
   ]
  },
  {
   "cell_type": "code",
   "execution_count": null,
   "metadata": {},
   "outputs": [],
   "source": [
    "Project Structure:\n",
    "    \n",
    "This projects consist of three parts."
   ]
  }
 ],
 "metadata": {
  "kernelspec": {
   "display_name": "Python 3",
   "language": "python",
   "name": "python3"
  },
  "language_info": {
   "codemirror_mode": {
    "name": "ipython",
    "version": 3
   },
   "file_extension": ".py",
   "mimetype": "text/x-python",
   "name": "python",
   "nbconvert_exporter": "python",
   "pygments_lexer": "ipython3",
   "version": "3.8.3"
  }
 },
 "nbformat": 4,
 "nbformat_minor": 4
}
